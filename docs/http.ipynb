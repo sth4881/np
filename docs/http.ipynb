{
 "cells": [
  {
   "cell_type": "markdown",
   "metadata": {},
   "source": [
    "# HTTP Protocol"
   ]
  },
  {
   "cell_type": "markdown",
   "metadata": {},
   "source": [
    "## HTTP request and response messages\n",
    "HTTP protocol은 HTTP client(예: browser가 내장, curl, wget 등)와 HTTP server(web server가 내장)간의 통신 프로토콜이다. \n",
    "- Connection open: client 측\n",
    "- request message: client 측. Connected socket으로) request message를 보내고, response message를 기다린다.\n",
    "- response message: server는 request에 따라 처리하고, 통상, 파일에서 읽거나 application server로 부터 회신한 content(예: html 문서, 이미지, JSON)를  response message 속에 담아 회신한다.\n",
    "- connection close: server 측\n",
    "  - 일정시간까지 server는 connection을 유지한다.  Keep-alive timeout이 지나면 socket을 close한다. \n",
    "  - 회신 후 바로 close할 것을 client가 요구할 수 있다. (Request header에 `Connection: close` 삽입시. HTTP/1.1 기준)\n",
    "\n",
    "> Stop-and-wait 방식으로 request - response 를 반복할 수도 있고<br>\n",
    "> Pipelining 방식으로 보내는 stream(request1 - request2 - ...)과 받는 stream( response1 - response2 - ...)을 독립적으로 병행하여 진행할 수 있도록 HTTP가 정의되어 있다.\n",
    "\n",
    "![HTTP connections](https://mdn.mozillademos.org/files/13727/HTTP1_x_Connections.png)\n",
    "\n",
    "HTTP/1.1에서 다음 method가 정의되어 있다: `GET | POST | PUT | DELETE | HEAD` \n",
    "\n",
    "HTTP/1.1 request message syntax:\n",
    "```\n",
    "<method> <path> HTTP/1.1\n",
    "<header-1>\n",
    "<header-2>\n",
    "...\n",
    "\n",
    "[<body>]\n",
    "```\n",
    "\n",
    "HTTP/1.1 response message syntax:\n",
    "```\n",
    "HTTP/1.1 <status code> <status phrase>\n",
    "<header-1>\n",
    "<header-2>\n",
    "\n",
    "<body>\n",
    "```\n",
    "\n",
    "주의: 각 line은 CRLF(`b'\\r\\n'`)로 끝난다. (인터넷 표준)\n",
    "\n",
    "> See https://developer.mozilla.org/ko/docs/Web/HTTP/Messages"
   ]
  },
  {
   "cell_type": "markdown",
   "metadata": {},
   "source": [
    "### Lab\n",
    "Bash 창을 열고 다음 명령을 내리자. (Git bash App 등 설치된 bash를 이용한다.)\n",
    "```bash\n",
    "$ curl --verbose http://www.google.com\n",
    "* Rebuilt URL to: http://www.google.com/\n",
    "*   Trying 172.217.161.36...\n",
    "* Connected to www.google.com (172.217.161.36) port 80 (#0)\n",
    "> GET / HTTP/1.1\n",
    "> Host: www.google.com\n",
    "> User-Agent: curl/7.47.0\n",
    "> Accept: */*\n",
    ">\n",
    "< HTTP/1.1 200 OK\n",
    "< Date: Sat, 18 May 2019 05:25:28 GMT\n",
    "< Expires: -1\n",
    "< Cache-Control: private, max-age=0\n",
    "< Content-Type: text/html; charset=ISO-8859-1\n",
    "< P3P: CP=\"This is not a P3P policy! See g.co/p3phelp for more info.\"\n",
    "< Server: gws\n",
    "< X-XSS-Protection: 0\n",
    "< X-Frame-Options: SAMEORIGIN\n",
    "< Set-Cookie: 1P_JAR=2019-05-18-05; expires=Mon, 17-Jun-2019 05:25:28 GMT; path=/; domain=.google.com\n",
    "< Set-Cookie: NID=183=uXd-QOiYbP8F2oq4KASLVN41HQJJqOx91sWqjtcp_23E-UkhwJh51kV1ycDAGgPg7_kOLoYK8Dby9PACIfRmbhNFXuYy5WZGJjQHbFoZpqhrBjRtw_\n",
    "JHW5v4WvQDm1-UYsO8TAkntE7HPY3UaYe0ssTnG8AKiomJqzW04ya4dlA; expires=Sun, 17-Nov-2019 05:25:28 GMT; path=/; domain=.google.com; HttpOnly\n",
    "< Accept-Ranges: none\n",
    "< Vary: Accept-Encoding\n",
    "< Transfer-Encoding: chunked\n",
    "<\n",
    "<!doctype html><html itemscope=\"\" itemtype=\"http://schema.org/WebPage\" lang=\"ko\"><head><meta content=\"text/html; charset=UTF-8\" http-equ\n",
    "iv=\"Content-Type\"><meta content=\"/images/branding/googleg/1x/googleg_standard_color_128dp.png\" itemprop=\"image\"><title>Google</title><sc\n",
    "ript nonce=\"pQIv0WUiFTUSaw6L9k+OyQ==\">\n",
    "...\n",
    "```"
   ]
  },
  {
   "cell_type": "markdown",
   "metadata": {},
   "source": [
    "#### JSON -  a lightweight data interchange format \n",
    "\n",
    "Python `dict, list, str, int, float`를 해당되는 JavaScript Object Notation으로 표현한다. JSON은 ASCII 범위내의 string 표현되므로 **serialize** 한다고도 한다. (Unicode 한글이 ASCII 영문자로 변환됨) \n",
    "\n",
    "물론, JSON으로 바뀐 것도 Python `str` type이니 socket 통신하기 위해서는 `bytes` type으로 바꿔야 한다.\n",
    "\n",
    "##### JSON으로 encoding:"
   ]
  },
  {
   "cell_type": "code",
   "execution_count": 1,
   "metadata": {},
   "outputs": [
    {
     "name": "stdout",
     "output_type": "stream",
     "text": [
      "<class 'str'>\n"
     ]
    },
    {
     "data": {
      "text/plain": [
       "'{\"deviceid\": \"iot123\", \"temp\": 54.98, \"humidity\": 32.43, \"coords\": {\"latitude\": 47.615694, \"longitude\": -122.3359976}, \"organization\": \"\\\\ud55c\\\\uad6d\\\\uc678\\\\ub300\"}'"
      ]
     },
     "execution_count": 1,
     "metadata": {},
     "output_type": "execute_result"
    }
   ],
   "source": [
    "import json\n",
    "\n",
    "sensor_data = {\n",
    "    \"deviceid\": \"iot123\",\n",
    "    \"temp\": 54.98,\n",
    "    \"humidity\": 32.43,\n",
    "    \"coords\": {\n",
    "        \"latitude\": 47.615694,\n",
    "        \"longitude\": -122.3359976,\n",
    "    },\n",
    "    \"organization\": \"한국외대\"\n",
    "}\n",
    "data_json = json.dumps(sensor_data)\n",
    "print(type(data_json))\n",
    "data_json"
   ]
  },
  {
   "cell_type": "markdown",
   "metadata": {},
   "source": [
    "##### JSON으로 decoding"
   ]
  },
  {
   "cell_type": "code",
   "execution_count": 2,
   "metadata": {
    "scrolled": true
   },
   "outputs": [
    {
     "data": {
      "text/plain": [
       "{'deviceid': 'iot123',\n",
       " 'temp': 54.98,\n",
       " 'humidity': 32.43,\n",
       " 'coords': {'latitude': 47.615694, 'longitude': -122.3359976},\n",
       " 'organization': '한국외대'}"
      ]
     },
     "execution_count": 2,
     "metadata": {},
     "output_type": "execute_result"
    }
   ],
   "source": [
    "json.loads(data_json)  # convert into dict"
   ]
  },
  {
   "cell_type": "markdown",
   "metadata": {},
   "source": [
    "참고: JSON string을 `bytes`로 encoding한 것도 바로 unicode로 decode할 필요없이 Python으로 decoding된다.\n",
    "```Python\n",
    "json.loads(data_json.encode('utf-8'))\n",
    "```"
   ]
  },
  {
   "cell_type": "markdown",
   "metadata": {},
   "source": [
    "   ## HTTP clients using `requests` module"
   ]
  },
  {
   "cell_type": "markdown",
   "metadata": {},
   "source": [
    "### Using GET method"
   ]
  },
  {
   "cell_type": "code",
   "execution_count": 3,
   "metadata": {
    "scrolled": true
   },
   "outputs": [
    {
     "name": "stdout",
     "output_type": "stream",
     "text": [
      "Help on function get in module requests.api:\n",
      "\n",
      "get(url, params=None, **kwargs)\n",
      "    Sends a GET request.\n",
      "    \n",
      "    :param url: URL for the new :class:`Request` object.\n",
      "    :param params: (optional) Dictionary or bytes to be sent in the query string for the :class:`Request`.\n",
      "    :param \\*\\*kwargs: Optional arguments that ``request`` takes.\n",
      "    :return: :class:`Response <Response>` object\n",
      "    :rtype: requests.Response\n",
      "\n"
     ]
    }
   ],
   "source": [
    "import requests\n",
    "help(requests.get)"
   ]
  },
  {
   "cell_type": "code",
   "execution_count": 4,
   "metadata": {},
   "outputs": [
    {
     "name": "stdout",
     "output_type": "stream",
     "text": [
      "Help on Response in module requests.models object:\n",
      "\n",
      "class Response(builtins.object)\n",
      " |  The :class:`Response <Response>` object, which contains a\n",
      " |  server's response to an HTTP request.\n",
      " |  \n",
      " |  Methods defined here:\n",
      " |  \n",
      " |  __bool__(self)\n",
      " |      Returns True if :attr:`status_code` is less than 400.\n",
      " |      \n",
      " |      This attribute checks if the status code of the response is between\n",
      " |      400 and 600 to see if there was a client error or a server error. If\n",
      " |      the status code, is between 200 and 400, this will return True. This\n",
      " |      is **not** a check to see if the response code is ``200 OK``.\n",
      " |  \n",
      " |  __enter__(self)\n",
      " |  \n",
      " |  __exit__(self, *args)\n",
      " |  \n",
      " |  __getstate__(self)\n",
      " |  \n",
      " |  __init__(self)\n",
      " |      Initialize self.  See help(type(self)) for accurate signature.\n",
      " |  \n",
      " |  __iter__(self)\n",
      " |      Allows you to use a response as an iterator.\n",
      " |  \n",
      " |  __nonzero__(self)\n",
      " |      Returns True if :attr:`status_code` is less than 400.\n",
      " |      \n",
      " |      This attribute checks if the status code of the response is between\n",
      " |      400 and 600 to see if there was a client error or a server error. If\n",
      " |      the status code, is between 200 and 400, this will return True. This\n",
      " |      is **not** a check to see if the response code is ``200 OK``.\n",
      " |  \n",
      " |  __repr__(self)\n",
      " |      Return repr(self).\n",
      " |  \n",
      " |  __setstate__(self, state)\n",
      " |  \n",
      " |  close(self)\n",
      " |      Releases the connection back to the pool. Once this method has been\n",
      " |      called the underlying ``raw`` object must not be accessed again.\n",
      " |      \n",
      " |      *Note: Should not normally need to be called explicitly.*\n",
      " |  \n",
      " |  iter_content(self, chunk_size=1, decode_unicode=False)\n",
      " |      Iterates over the response data.  When stream=True is set on the\n",
      " |      request, this avoids reading the content at once into memory for\n",
      " |      large responses.  The chunk size is the number of bytes it should\n",
      " |      read into memory.  This is not necessarily the length of each item\n",
      " |      returned as decoding can take place.\n",
      " |      \n",
      " |      chunk_size must be of type int or None. A value of None will\n",
      " |      function differently depending on the value of `stream`.\n",
      " |      stream=True will read data as it arrives in whatever size the\n",
      " |      chunks are received. If stream=False, data is returned as\n",
      " |      a single chunk.\n",
      " |      \n",
      " |      If decode_unicode is True, content will be decoded using the best\n",
      " |      available encoding based on the response.\n",
      " |  \n",
      " |  iter_lines(self, chunk_size=512, decode_unicode=None, delimiter=None)\n",
      " |      Iterates over the response data, one line at a time.  When\n",
      " |      stream=True is set on the request, this avoids reading the\n",
      " |      content at once into memory for large responses.\n",
      " |      \n",
      " |      .. note:: This method is not reentrant safe.\n",
      " |  \n",
      " |  json(self, **kwargs)\n",
      " |      Returns the json-encoded content of a response, if any.\n",
      " |      \n",
      " |      :param \\*\\*kwargs: Optional arguments that ``json.loads`` takes.\n",
      " |      :raises ValueError: If the response body does not contain valid json.\n",
      " |  \n",
      " |  raise_for_status(self)\n",
      " |      Raises stored :class:`HTTPError`, if one occurred.\n",
      " |  \n",
      " |  ----------------------------------------------------------------------\n",
      " |  Data descriptors defined here:\n",
      " |  \n",
      " |  __dict__\n",
      " |      dictionary for instance variables (if defined)\n",
      " |  \n",
      " |  __weakref__\n",
      " |      list of weak references to the object (if defined)\n",
      " |  \n",
      " |  apparent_encoding\n",
      " |      The apparent encoding, provided by the chardet library.\n",
      " |  \n",
      " |  content\n",
      " |      Content of the response, in bytes.\n",
      " |  \n",
      " |  is_permanent_redirect\n",
      " |      True if this Response one of the permanent versions of redirect.\n",
      " |  \n",
      " |  is_redirect\n",
      " |      True if this Response is a well-formed HTTP redirect that could have\n",
      " |      been processed automatically (by :meth:`Session.resolve_redirects`).\n",
      " |  \n",
      " |  links\n",
      " |      Returns the parsed header links of the response, if any.\n",
      " |  \n",
      " |  next\n",
      " |      Returns a PreparedRequest for the next request in a redirect chain, if there is one.\n",
      " |  \n",
      " |  ok\n",
      " |      Returns True if :attr:`status_code` is less than 400.\n",
      " |      \n",
      " |      This attribute checks if the status code of the response is between\n",
      " |      400 and 600 to see if there was a client error or a server error. If\n",
      " |      the status code, is between 200 and 400, this will return True. This\n",
      " |      is **not** a check to see if the response code is ``200 OK``.\n",
      " |  \n",
      " |  text\n",
      " |      Content of the response, in unicode.\n",
      " |      \n",
      " |      If Response.encoding is None, encoding will be guessed using\n",
      " |      ``chardet``.\n",
      " |      \n",
      " |      The encoding of the response content is determined based solely on HTTP\n",
      " |      headers, following RFC 2616 to the letter. If you can take advantage of\n",
      " |      non-HTTP knowledge to make a better guess at the encoding, you should\n",
      " |      set ``r.encoding`` appropriately before accessing this property.\n",
      " |  \n",
      " |  ----------------------------------------------------------------------\n",
      " |  Data and other attributes defined here:\n",
      " |  \n",
      " |  __attrs__ = ['_content', 'status_code', 'headers', 'url', 'history', '...\n",
      "\n",
      "None\n"
     ]
    }
   ],
   "source": [
    "import requests\n",
    "\n",
    "url = 'https://naver.com'\n",
    "r = requests.get(url)\n",
    "print(help(r))"
   ]
  },
  {
   "cell_type": "code",
   "execution_count": 5,
   "metadata": {
    "scrolled": false
   },
   "outputs": [
    {
     "name": "stdout",
     "output_type": "stream",
     "text": [
      "GET\n",
      "{'User-Agent': 'python-requests/2.18.4', 'Accept-Encoding': 'gzip, deflate', 'Accept': '*/*', 'Connection': 'keep-alive'}\n"
     ]
    }
   ],
   "source": [
    "print(r.request.method)\n",
    "print(r.request.headers)"
   ]
  },
  {
   "cell_type": "code",
   "execution_count": 6,
   "metadata": {
    "scrolled": false
   },
   "outputs": [
    {
     "name": "stdout",
     "output_type": "stream",
     "text": [
      "200\n",
      "{'Server': 'NWS', 'Date': 'Tue, 28 May 2019 04:01:02 GMT', 'Content-Type': 'text/html; charset=UTF-8', 'Transfer-Encoding': 'chunked', 'Connection': 'keep-alive', 'Set-Cookie': 'PM_CK_loc=53db4f7ef4cb126fbbfcba034d0edde59073558f12051aaaedcd41bb402c4c0a; Expires=Wed, 29 May 2019 04:01:02 GMT; Path=/; HttpOnly', 'Cache-Control': 'no-cache, no-store, must-revalidate', 'Pragma': 'no-cache', 'P3P': 'CP=\"CAO DSP CURa ADMa TAIa PSAa OUR LAW STP PHY ONL UNI PUR FIN COM NAV INT DEM STA PRE\"', 'X-Frame-Options': 'DENY', 'X-XSS-Protection': '1; mode=block', 'Content-Encoding': 'gzip', 'Strict-Transport-Security': 'max-age=63072000; includeSubdomains', 'Referrer-Policy': 'unsafe-url'}\n",
      "keep-alive\n",
      "UTF-8\n"
     ]
    }
   ],
   "source": [
    "print(r.status_code)\n",
    "print(r.headers)\n",
    "print(r.headers['connection'])\n",
    "print(r.encoding)"
   ]
  },
  {
   "cell_type": "code",
   "execution_count": 7,
   "metadata": {},
   "outputs": [
    {
     "name": "stdout",
     "output_type": "stream",
     "text": [
      "b'<!doctype html>\\n\\n\\n\\n\\n\\n\\n\\n\\n\\n\\n\\n\\n\\n\\n\\n\\n<html lang=\"ko\">\\n<head>\\n<meta charset=\"utf-8\">\\n<meta name=\"Referrer\" content=\"origin\">\\n<meta http-equiv=\"Content-Script-Type\" content=\"text/javascript\">\\n<meta http-equi'\n"
     ]
    }
   ],
   "source": [
    "print(r.content[:200])\n",
    "# print(r.text)   # decoded string"
   ]
  },
  {
   "cell_type": "code",
   "execution_count": 8,
   "metadata": {},
   "outputs": [
    {
     "data": {
      "text/plain": [
       "requests.structures.CaseInsensitiveDict"
      ]
     },
     "execution_count": 8,
     "metadata": {},
     "output_type": "execute_result"
    }
   ],
   "source": [
    "type(r.headers)"
   ]
  },
  {
   "cell_type": "markdown",
   "metadata": {},
   "source": [
    "#### sending FORM parameters\n",
    "HTTP get method로 form parameter를 보내자. http://httpbin.org/ 사이트는 testing 용도로 simple HTTP Request & Response Service를 제공하고 있다. Response의 content는 JSON으로 표현하여 이 웹사이트의 application server에게 전달된 가종 parameter들을 회신하고 있다."
   ]
  },
  {
   "cell_type": "code",
   "execution_count": 9,
   "metadata": {},
   "outputs": [
    {
     "name": "stdout",
     "output_type": "stream",
     "text": [
      "http://httpbin.org/get?deviceid=iot123&temp=54.98&humidity=32.43&coords=latitude&coords=longitude&orgnaization=%ED%95%9C%EA%B5%AD%EC%99%B8%EB%8C%80\n",
      "{'User-Agent': 'python-requests/2.18.4', 'Accept-Encoding': 'gzip, deflate', 'Accept': '*/*', 'Connection': 'keep-alive'}\n",
      "application/json\n",
      "{\n",
      "  \"args\": {\n",
      "    \"coords\": [\n",
      "      \"latitude\", \n",
      "      \"longitude\"\n",
      "    ], \n",
      "    \"deviceid\": \"iot123\", \n",
      "    \"humidity\": \"32.43\", \n",
      "    \"orgnaization\": \"\\ud55c\\uad6d\\uc678\\ub300\", \n",
      "    \"temp\": \"54.98\"\n",
      "  }, \n",
      "  \"headers\": {\n",
      "    \"Accept\": \"*/*\", \n",
      "    \"Accept-Encoding\": \"gzip, deflate\", \n",
      "    \"Host\": \"httpbin.org\", \n",
      "    \"User-Agent\": \"python-requests/2.18.4\"\n",
      "  }, \n",
      "  \"origin\": \"203.253.70.46, 203.253.70.46\", \n",
      "  \"url\": \"https://httpbin.org/get?deviceid=iot123&temp=54.98&humidity=32.43&coords=latitude&coords=longitude&orgnaization=\\ud55c\\uad6d\\uc678\\ub300\"\n",
      "}\n",
      "\n"
     ]
    }
   ],
   "source": [
    "import requests, json\n",
    "sensor_data = {\n",
    "    \"deviceid\" : \"iot123\",\n",
    "    \"temp\" : 54.98,\n",
    "    \"humidity\" : 32.43,\n",
    "    \"coords\" : {\n",
    "        \"latitude\" : 47.615694,\n",
    "        \"longitude\" : -122.3359976,\n",
    "    },\n",
    "    \"orgnaization\": \"한국외대\"\n",
    "}\n",
    "url = 'http://httpbin.org/get'     # simple HTTP Request & Response Service.\n",
    "response = requests.get(url, params=sensor_data)\n",
    "print(response.request.url)\n",
    "print(response.request.headers)\n",
    "print(response.headers['content-type'])\n",
    "print(response.text)"
   ]
  },
  {
   "cell_type": "code",
   "execution_count": 10,
   "metadata": {},
   "outputs": [
    {
     "name": "stdout",
     "output_type": "stream",
     "text": [
      "{'coords': ['latitude', 'longitude'], 'deviceid': 'iot123', 'humidity': '32.43', 'orgnaization': '한국외대', 'temp': '54.98'}\n"
     ]
    }
   ],
   "source": [
    "rcvd_data = json.loads(response.text)\n",
    "print(rcvd_data['args'])"
   ]
  },
  {
   "cell_type": "markdown",
   "metadata": {},
   "source": [
    "### Using POST method"
   ]
  },
  {
   "cell_type": "code",
   "execution_count": 11,
   "metadata": {
    "scrolled": true
   },
   "outputs": [
    {
     "name": "stdout",
     "output_type": "stream",
     "text": [
      "Help on function post in module requests.api:\n",
      "\n",
      "post(url, data=None, json=None, **kwargs)\n",
      "    Sends a POST request.\n",
      "    \n",
      "    :param url: URL for the new :class:`Request` object.\n",
      "    :param data: (optional) Dictionary (will be form-encoded), bytes, or file-like object to send in the body of the :class:`Request`.\n",
      "    :param json: (optional) json data to send in the body of the :class:`Request`.\n",
      "    :param \\*\\*kwargs: Optional arguments that ``request`` takes.\n",
      "    :return: :class:`Response <Response>` object\n",
      "    :rtype: requests.Response\n",
      "\n"
     ]
    }
   ],
   "source": [
    "help(requests.post)"
   ]
  },
  {
   "cell_type": "markdown",
   "metadata": {},
   "source": [
    "##### POST form prameters\n",
    "Web server가 보낸 form에서 빈칸을 채우면 이들은 form으로 encoding되어 request message의 body 필드에 실린다.\n",
    "\n",
    "Client에서 직접 form의 parameter를 POST할 수 있다."
   ]
  },
  {
   "cell_type": "code",
   "execution_count": 12,
   "metadata": {},
   "outputs": [
    {
     "name": "stdout",
     "output_type": "stream",
     "text": [
      "POST\n",
      "{'User-Agent': 'python-requests/2.18.4', 'Accept-Encoding': 'gzip, deflate', 'Accept': '*/*', 'Connection': 'keep-alive', 'Content-Length': '124', 'Content-Type': 'application/x-www-form-urlencoded'}\n",
      "deviceid=iot123&temp=54.98&humidity=32.43&coords=latitude&coords=longitude&orgnaization=%ED%95%9C%EA%B5%AD%EC%99%B8%EB%8C%80\n"
     ]
    }
   ],
   "source": [
    "url = 'http://httpbin.org/post'     # simple HTTP Request & Response Service.\n",
    "response = requests.post(url, data=sensor_data)\n",
    "print(response.request.method)\n",
    "print(response.request.headers)\n",
    "print(response.request.body)       # form-encoded"
   ]
  },
  {
   "cell_type": "markdown",
   "metadata": {},
   "source": [
    "이 사이트는 JSON format으로 답변하며, 받은 request message에 실린 정보를 요약한 내용을 회신한다."
   ]
  },
  {
   "cell_type": "code",
   "execution_count": 13,
   "metadata": {},
   "outputs": [
    {
     "name": "stdout",
     "output_type": "stream",
     "text": [
      "application/json\n",
      "{\n",
      "  \"args\": {}, \n",
      "  \"data\": \"\", \n",
      "  \"files\": {}, \n",
      "  \"form\": {\n",
      "    \"coords\": [\n",
      "      \"latitude\", \n",
      "      \"longitude\"\n",
      "    ], \n",
      "    \"deviceid\": \"iot123\", \n",
      "    \"humidity\": \"32.43\", \n",
      "    \"orgnaization\": \"\\ud55c\\uad6d\\uc678\\ub300\", \n",
      "    \"temp\": \"54.98\"\n",
      "  }, \n",
      "  \"headers\": {\n",
      "    \"Accept\": \"*/*\", \n",
      "    \"Accept-Encoding\": \"gzip, deflate\", \n",
      "    \"Content-Length\": \"124\", \n",
      "    \"Content-Type\": \"application/x-www-form-urlencoded\", \n",
      "    \"Host\": \"httpbin.org\", \n",
      "    \"User-Agent\": \"python-requests/2.18.4\"\n",
      "  }, \n",
      "  \"json\": null, \n",
      "  \"origin\": \"203.253.70.46, 203.253.70.46\", \n",
      "  \"url\": \"https://httpbin.org/post\"\n",
      "}\n",
      "\n"
     ]
    }
   ],
   "source": [
    "print(response.headers['content-type'])\n",
    "print(response.text)"
   ]
  },
  {
   "cell_type": "markdown",
   "metadata": {},
   "source": [
    "#### POST JSON objects\n",
    "`requests` module은 Python dict를 받아 JSON format으로 변경하고 `bytes`로 encoding하여 request message의 body에 싣는다. "
   ]
  },
  {
   "cell_type": "code",
   "execution_count": 14,
   "metadata": {},
   "outputs": [
    {
     "name": "stdout",
     "output_type": "stream",
     "text": [
      "{'User-Agent': 'python-requests/2.18.4', 'Accept-Encoding': 'gzip, deflate', 'Accept': '*/*', 'Connection': 'keep-alive', 'Content-Length': '162', 'Content-Type': 'application/json'}\n",
      "b'{\"deviceid\": \"iot123\", \"temp\": 54.98, \"humidity\": 32.43, \"coords\": {\"latitude\": 47.615694, \"longitude\": -122.3359976}, \"orgnaization\": \"\\\\ud55c\\\\uad6d\\\\uc678\\\\ub300\"}'\n"
     ]
    }
   ],
   "source": [
    "url = 'http://httpbin.org/post'     # simple HTTP Request & Response Service.\n",
    "response = requests.post(url, json=sensor_data)\n",
    "print(response.request.headers)\n",
    "print(response.request.body)   # body contains json object encoded by utf-8"
   ]
  },
  {
   "cell_type": "code",
   "execution_count": 15,
   "metadata": {},
   "outputs": [
    {
     "name": "stdout",
     "output_type": "stream",
     "text": [
      "application/json\n",
      "{\n",
      "  \"args\": {}, \n",
      "  \"data\": \"{\\\"deviceid\\\": \\\"iot123\\\", \\\"temp\\\": 54.98, \\\"humidity\\\": 32.43, \\\"coords\\\": {\\\"latitude\\\": 47.615694, \\\"longitude\\\": -122.3359976}, \\\"orgnaization\\\": \\\"\\\\ud55c\\\\uad6d\\\\uc678\\\\ub300\\\"}\", \n",
      "  \"files\": {}, \n",
      "  \"form\": {}, \n",
      "  \"headers\": {\n",
      "    \"Accept\": \"*/*\", \n",
      "    \"Accept-Encoding\": \"gzip, deflate\", \n",
      "    \"Content-Length\": \"162\", \n",
      "    \"Content-Type\": \"application/json\", \n",
      "    \"Host\": \"httpbin.org\", \n",
      "    \"User-Agent\": \"python-requests/2.18.4\"\n",
      "  }, \n",
      "  \"json\": {\n",
      "    \"coords\": {\n",
      "      \"latitude\": 47.615694, \n",
      "      \"longitude\": -122.3359976\n",
      "    }, \n",
      "    \"deviceid\": \"iot123\", \n",
      "    \"humidity\": 32.43, \n",
      "    \"orgnaization\": \"\\ud55c\\uad6d\\uc678\\ub300\", \n",
      "    \"temp\": 54.98\n",
      "  }, \n",
      "  \"origin\": \"203.253.70.46, 203.253.70.46\", \n",
      "  \"url\": \"https://httpbin.org/post\"\n",
      "}\n",
      "\n"
     ]
    }
   ],
   "source": [
    "print(response.headers['content-type'])\n",
    "print(response.text)"
   ]
  },
  {
   "cell_type": "code",
   "execution_count": 16,
   "metadata": {},
   "outputs": [
    {
     "name": "stdout",
     "output_type": "stream",
     "text": [
      "{'coords': {'latitude': 47.615694, 'longitude': -122.3359976}, 'deviceid': 'iot123', 'humidity': 32.43, 'orgnaization': '한국외대', 'temp': 54.98}\n"
     ]
    }
   ],
   "source": [
    "r_dict = json.loads(response.content)\n",
    "print(r_dict['json'])"
   ]
  },
  {
   "cell_type": "markdown",
   "metadata": {},
   "source": [
    "## An HTTP client using socket\n",
    "HTTP protocol를 보다 정밀하게 이해하도록 socket으로 HTTP client를 작성한다. 현실에선 이미 잘 만들어 놓은 Python urllib.request module이나 requests module을 사용하는 편이 낫겠지만, pipelining 등 성능 개선이 필요한 경우에는 직접 coding해야 할 것이다. 게다가 socket programming을 익히기 위해 잘 알려진 HTTP protocol을 대상으로 client를 작성해 보자.\n",
    "\n",
    "#### http/httpcli.py:\n",
    "HTTP message header들은 case-insensitive하다. 그러므로 바로 Python dict를 이용하기 곤란하다. requests.structures.CaseInsensitiveDict를 사용하기로 한다. (dict class를 subclassing하면 쉽다.)\n",
    "\n",
    "Request와 Response class로 필요한 data structure를 정의하고, 골격은 httpopen 함수에 있다.\n",
    "\n",
    "`Response` class:\n",
    "- 해당 `Request` object이 포함된다.\n",
    "- read_status method\n",
    "- read_headers method\n",
    "- read_content method: content가 utf-8으로 encoding된 것으로 가정\n",
    "  - 'Content-Length' header가 있으면 이만한 bytes를 읽는다\n",
    "  - `Transfer-Encoding: chunked` header가 있으면, hexa string <CRLF>으로 표현된 chunk 길이만큼 반복해서 읽는다. chunk length가 0이면 content의 끝. (마지막은 0<CRLF><CRLF>로 끝난다.)\n",
    "  - 위 header가 없으면, server가 FIN을 보낼 때까지 읽는다\n",
    "\n",
    "`Request` class:\n",
    "- `Request` object을 create한다. (GET, POST method에 필요한 header 정의)\n",
    "- `open` method\n",
    "  - connect web server\n",
    "  - request message를 build하고 송신\n",
    "  - PUT method의 경우 body에 실릴 data를 송신\n",
    "  - `Response` object을 create해서 수신한 response message를 parsing해서 status code, headers, contents를 읽어 `Response` object을 return\n",
    "- `close` method: socket을 close\n",
    "\n",
    "User interface:\n",
    "- function `get`: send an HTTP GET request and receive its response\n",
    "- funnction `post`: send an HTTP POST request and receive its response"
   ]
  }
 ],
 "metadata": {
  "kernelspec": {
   "display_name": "Python 3",
   "language": "python",
   "name": "python3"
  },
  "language_info": {
   "codemirror_mode": {
    "name": "ipython",
    "version": 3
   },
   "file_extension": ".py",
   "mimetype": "text/x-python",
   "name": "python",
   "nbconvert_exporter": "python",
   "pygments_lexer": "ipython3",
   "version": "3.6.4"
  }
 },
 "nbformat": 4,
 "nbformat_minor": 2
}
